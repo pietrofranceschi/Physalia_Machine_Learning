{
 "cells": [
  {
   "cell_type": "raw",
   "metadata": {},
   "source": [
    "---\n",
    "title: \"PCA\"\n",
    "author: \"Pietro Franceschi\"\n",
    "date: \"June 7, 2020\"\n",
    "output: rmarkdown::github_document\n",
    "---"
   ]
  },
  {
   "cell_type": "code",
   "execution_count": null,
   "metadata": {
    "name": "setup",
    "tags": [
     "remove_cell"
    ]
   },
   "outputs": [],
   "source": [
    "knitr::opts_chunk$set(echo = TRUE)\n",
    "knitr::opts_chunk$set(\n",
    "  fig.path = \"figs/pcawines\")"
   ]
  },
  {
   "cell_type": "markdown",
   "metadata": {},
   "source": [
    "This demo still deals with PCA. In particular we apply it to the *wines* dataset.\n",
    "\n",
    "PCA in R can be performed with many different packages, here we will use two of them which are characterized by an optimal trade off between flexibility and ease to use. The two packages are `FactoMineR` and `factoextra`. An excellent introduction to their use can be found [there](http://www.sthda.com/english/wiki/factoextra-r-package-easy-multivariate-data-analyses-and-elegant-visualization)"
   ]
  },
  {
   "cell_type": "markdown",
   "metadata": {
    "lines_to_next_cell": 0
   },
   "source": [
    "Both packages are not part of the standard R installation. To directly install them just type"
   ]
  },
  {
   "cell_type": "code",
   "execution_count": null,
   "metadata": {
    "eval": false,
    "lines_to_next_cell": 2
   },
   "outputs": [],
   "source": [
    "# install.packages(\"FactoMineR\")\n",
    "# install.packages(\"Factoextra\")"
   ]
  },
  {
   "cell_type": "markdown",
   "metadata": {},
   "source": [
    "## PCA of Wines  Dataset\n",
    "First of all we load the data and the two R packages"
   ]
  },
  {
   "cell_type": "code",
   "execution_count": null,
   "metadata": {
    "lines_to_next_cell": 0
   },
   "outputs": [],
   "source": [
    "library(FactoMineR)\n",
    "library(factoextra)\n",
    "load(\"data/wines.RData\")\n",
    "head(wines)"
   ]
  },
  {
   "cell_type": "markdown",
   "metadata": {},
   "source": []
  },
  {
   "cell_type": "markdown",
   "metadata": {},
   "source": [
    "Since this `wines` is a matrix, we transform it to a data frame adding also the info about the wine type"
   ]
  },
  {
   "cell_type": "code",
   "execution_count": null,
   "metadata": {},
   "outputs": [],
   "source": [
    "winesdf <- cbind.data.frame(class = vintages, wines)\n",
    "## this command is useful to get a textual feedback on the structure of the data\n",
    "str(winesdf)"
   ]
  },
  {
   "cell_type": "markdown",
   "metadata": {},
   "source": [
    "Now we see more clearly the structure of the data, and we can easily use the summary to get some feeling on the situation\n"
   ]
  },
  {
   "cell_type": "code",
   "execution_count": null,
   "metadata": {},
   "outputs": [],
   "source": [
    "summary(winesdf)"
   ]
  },
  {
   "cell_type": "markdown",
   "metadata": {},
   "source": [
    "Let's do some PCA, first of all consider the scaled and unscaled results "
   ]
  },
  {
   "cell_type": "code",
   "execution_count": null,
   "metadata": {},
   "outputs": [],
   "source": [
    "winesPCA.scaled <- PCA(winesdf[,2:14],\n",
    "                       scale.unit = TRUE,\n",
    "                       graph = FALSE)\n",
    "fviz_pca_biplot(winesPCA.scaled, \n",
    "                habillage = winesdf$class,\n",
    "                label = \"var\", # show variable names\n",
    "                repel = TRUE,\n",
    "                title = \"Scaled Data\") "
   ]
  },
  {
   "cell_type": "code",
   "execution_count": null,
   "metadata": {},
   "outputs": [],
   "source": [
    "winesPCA <- PCA(log10(winesdf[,2:14]),\n",
    "                scale.unit = FALSE,\n",
    "                graph = FALSE\n",
    "                ) \n",
    "fviz_pca_biplot(winesPCA, \n",
    "                habillage = winesdf$class,\n",
    "                label = \"var\", # show variable names\n",
    "                repel = TRUE,\n",
    "                tile = \"unscaled Data\") "
   ]
  },
  {
   "cell_type": "markdown",
   "metadata": {},
   "source": [
    "Now some questions:\n",
    "\n",
    "* What can you see about the samples? \n",
    "* What can you say about the relations (correlation) between the variables?\n",
    "* Which are the most discriminating variables?\n",
    "* Why the two previous plots are so different?"
   ]
  },
  {
   "cell_type": "markdown",
   "metadata": {},
   "source": [
    "Let's give a look to the scaled and unscaled raw data ..."
   ]
  },
  {
   "cell_type": "code",
   "execution_count": null,
   "metadata": {
    "fig.width": 6,
    "lines_to_next_cell": 2
   },
   "outputs": [],
   "source": [
    "stripchart(winesdf[,2:14],\n",
    "           vertical = TRUE,\n",
    "           method = \"jitter\",\n",
    "           jitter = 0.2,\n",
    "           pch = 19,\n",
    "           col = \"red3\",\n",
    "           cex = 0.3, \n",
    "           las = 2, cex.axis=0.7)"
   ]
  },
  {
   "cell_type": "markdown",
   "metadata": {},
   "source": [
    "And their scale counterpart ...\n"
   ]
  },
  {
   "cell_type": "code",
   "execution_count": null,
   "metadata": {
    "lines_to_next_cell": 0
   },
   "outputs": [],
   "source": [
    "stripchart(as.data.frame(scale(winesdf[,2:14])),\n",
    "           vertical = TRUE,\n",
    "           method = \"jitter\",\n",
    "           jitter = 0.2,\n",
    "           pch = 19,\n",
    "           col = \"red3\",\n",
    "           cex = 0.3,\n",
    "           las = 2, cex.axis=0.7)\n",
    "abline(h=0)"
   ]
  },
  {
   "cell_type": "markdown",
   "metadata": {},
   "source": []
  },
  {
   "cell_type": "markdown",
   "metadata": {},
   "source": [
    "## PCA of the gene expression data\n",
    "\n",
    "To finish this part let's give a fat look to the gene expression data ..."
   ]
  },
  {
   "cell_type": "code",
   "execution_count": null,
   "metadata": {},
   "outputs": [],
   "source": [
    "## Load the data\n",
    "load(\"data/rnaseq.RData\")\n",
    "dim(countsn)\n"
   ]
  },
  {
   "cell_type": "markdown",
   "metadata": {},
   "source": [
    "So here we have 12 samples and more than 12 thousands variables, and samples are in column. First of all we have to turn the matrix"
   ]
  },
  {
   "cell_type": "code",
   "execution_count": null,
   "metadata": {
    "lines_to_next_cell": 2
   },
   "outputs": [],
   "source": [
    "countsn <- t(countsn)\n",
    "\n",
    "dim(countsn)\n"
   ]
  },
  {
   "cell_type": "markdown",
   "metadata": {},
   "source": [
    "Let's give a look to the PCA"
   ]
  },
  {
   "cell_type": "code",
   "execution_count": null,
   "metadata": {
    "lines_to_next_cell": 2
   },
   "outputs": [],
   "source": [
    "genesPCA <- PCA(countsn,\n",
    "                scale.unit = TRUE,\n",
    "                graph = FALSE)\n",
    "summary(genesPCA)"
   ]
  },
  {
   "cell_type": "markdown",
   "metadata": {},
   "source": [
    "What we see in terms of variance?"
   ]
  },
  {
   "cell_type": "code",
   "execution_count": null,
   "metadata": {
    "lines_to_next_cell": 2
   },
   "outputs": [],
   "source": [
    "fviz_pca_biplot(genesPCA, \n",
    "                label = \"none\") "
   ]
  },
  {
   "cell_type": "markdown",
   "metadata": {},
   "source": [
    "Olalà! \n",
    "\n",
    "* Why this plot? \n",
    "* What is telling us? \n",
    "* Is something unexpected?\n",
    "\n",
    "## Projections\n",
    "\n",
    "We mentioned that to compare new and old data by PCA the \"new\" samples should be projected on the old PCA, otherwise the projection plane will be different. This is the most wise way to assess if new samples are compatible with the old ones. Let's see how this can be done on the wines dataset.\n",
    "\n",
    "To this purpose we project the \"Barolo\" samples on the PCA costructed on the rest of the dataset"
   ]
  },
  {
   "cell_type": "code",
   "execution_count": null,
   "metadata": {},
   "outputs": [],
   "source": [
    "proj.winesPCA <-PCA(winesdf[,2:14],\n",
    "                       scale.unit = TRUE,\n",
    "                       graph = FALSE,\n",
    "                       ind.sup = which(winesdf$class == \"Barolo\"))\n",
    "fviz_pca_biplot(proj.winesPCA, \n",
    "                habillage = winesdf$class[!winesdf$class == \"Barolo\"],\n",
    "                label = \"var\", # show variable names\n",
    "                repel = TRUE) \n",
    "\n"
   ]
  },
  {
   "cell_type": "markdown",
   "metadata": {},
   "source": [
    "The new individuals are in blue, as you can see the picture is now different compared to the one obtained with the full PCA. What we can say, now, is that Barolo samples are more similar to Grignolino than Barbera, but remember that this is true only because we look to a projection that is different from the old one. The data, indeed, always occupy the same position in the 14 dimensional space of the variables"
   ]
  }
 ],
 "metadata": {
  "jupytext": {
   "cell_metadata_filter": "eval,name,fig.width,tags,-all",
   "main_language": "R",
   "notebook_metadata_filter": "-all"
  },
  "kernelspec": {
   "display_name": "Python 3",
   "language": "python",
   "name": "python3"
  },
  "language_info": {
   "codemirror_mode": {
    "name": "ipython",
    "version": 3
   },
   "file_extension": ".py",
   "mimetype": "text/x-python",
   "name": "python",
   "nbconvert_exporter": "python",
   "pygments_lexer": "ipython3",
   "version": "3.8.2"
  }
 },
 "nbformat": 4,
 "nbformat_minor": 4
}
